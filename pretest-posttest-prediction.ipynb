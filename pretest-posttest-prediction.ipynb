{
 "cells": [
  {
   "cell_type": "markdown",
   "metadata": {},
   "source": [
    "## Overview"
   ]
  },
  {
   "cell_type": "markdown",
   "metadata": {},
   "source": [
    "We have a data set involving 70 binary features (1 means question correct, 0 means question was incorrect) corresponding to the 70 question pretest.\n",
    "\n",
    "We have access to the scores broken down by chapter for the Objective Assessment (the post test), but we will simply predict the overall score on the assessment (the column 'oa all').\n",
    "\n",
    "Our goal is to use the pre-test to predict the post test score. This will aid in our ability to identify students who could use our outreach and students who are less likely to need any intervention.\n",
    "\n",
    "We use 6 different models\n",
    "\n",
    "1. OLS regression using only overall pretest score (baseline)\n",
    "2. OLS using all 70 features\n",
    "3. Elastic Net (regularized linear regression)\n",
    "4. RandomForest\n",
    "5. XGBoost\n",
    "\n",
    "After performing randomized hyperparameter optimization, the Elastic Net and XGBoost models performed with similar mean squared error. "
   ]
  },
  {
   "cell_type": "code",
   "execution_count": 145,
   "metadata": {
    "ExecuteTime": {
     "end_time": "2020-02-24T18:55:56.102970Z",
     "start_time": "2020-02-24T18:55:56.094758Z"
    }
   },
   "outputs": [],
   "source": [
    "import pandas as pd\n",
    "from sklearn.model_selection import train_test_split\n",
    "from sklearn.metrics import mean_squared_error"
   ]
  },
  {
   "cell_type": "code",
   "execution_count": 340,
   "metadata": {
    "ExecuteTime": {
     "end_time": "2020-02-25T05:19:59.689578Z",
     "start_time": "2020-02-25T05:19:59.667858Z"
    }
   },
   "outputs": [
    {
     "data": {
      "text/html": [
       "<div>\n",
       "<style scoped>\n",
       "    .dataframe tbody tr th:only-of-type {\n",
       "        vertical-align: middle;\n",
       "    }\n",
       "\n",
       "    .dataframe tbody tr th {\n",
       "        vertical-align: top;\n",
       "    }\n",
       "\n",
       "    .dataframe thead th {\n",
       "        text-align: right;\n",
       "    }\n",
       "</style>\n",
       "<table border=\"1\" class=\"dataframe\">\n",
       "  <thead>\n",
       "    <tr style=\"text-align: right;\">\n",
       "      <th></th>\n",
       "      <th>pa1</th>\n",
       "      <th>pa2</th>\n",
       "      <th>pa3</th>\n",
       "      <th>pa4</th>\n",
       "      <th>pa5</th>\n",
       "      <th>pa6</th>\n",
       "      <th>pa7</th>\n",
       "      <th>pa8</th>\n",
       "      <th>pa9</th>\n",
       "      <th>pa10</th>\n",
       "      <th>...</th>\n",
       "      <th>pa69</th>\n",
       "      <th>pa70</th>\n",
       "      <th>oa all</th>\n",
       "      <th>oa m1</th>\n",
       "      <th>oa m2</th>\n",
       "      <th>oa m3</th>\n",
       "      <th>oa m4</th>\n",
       "      <th>oa m5</th>\n",
       "      <th>oa m6</th>\n",
       "      <th>oa m7</th>\n",
       "    </tr>\n",
       "  </thead>\n",
       "  <tbody>\n",
       "    <tr>\n",
       "      <td>0</td>\n",
       "      <td>1</td>\n",
       "      <td>1</td>\n",
       "      <td>1</td>\n",
       "      <td>1</td>\n",
       "      <td>1</td>\n",
       "      <td>1</td>\n",
       "      <td>1</td>\n",
       "      <td>1</td>\n",
       "      <td>1</td>\n",
       "      <td>1</td>\n",
       "      <td>...</td>\n",
       "      <td>1</td>\n",
       "      <td>1</td>\n",
       "      <td>84</td>\n",
       "      <td>100</td>\n",
       "      <td>100</td>\n",
       "      <td>100</td>\n",
       "      <td>82</td>\n",
       "      <td>82</td>\n",
       "      <td>76</td>\n",
       "      <td>72</td>\n",
       "    </tr>\n",
       "    <tr>\n",
       "      <td>1</td>\n",
       "      <td>1</td>\n",
       "      <td>1</td>\n",
       "      <td>1</td>\n",
       "      <td>1</td>\n",
       "      <td>1</td>\n",
       "      <td>1</td>\n",
       "      <td>1</td>\n",
       "      <td>1</td>\n",
       "      <td>1</td>\n",
       "      <td>1</td>\n",
       "      <td>...</td>\n",
       "      <td>1</td>\n",
       "      <td>1</td>\n",
       "      <td>81</td>\n",
       "      <td>86</td>\n",
       "      <td>100</td>\n",
       "      <td>100</td>\n",
       "      <td>82</td>\n",
       "      <td>76</td>\n",
       "      <td>88</td>\n",
       "      <td>59</td>\n",
       "    </tr>\n",
       "    <tr>\n",
       "      <td>2</td>\n",
       "      <td>1</td>\n",
       "      <td>1</td>\n",
       "      <td>1</td>\n",
       "      <td>1</td>\n",
       "      <td>1</td>\n",
       "      <td>1</td>\n",
       "      <td>1</td>\n",
       "      <td>1</td>\n",
       "      <td>1</td>\n",
       "      <td>1</td>\n",
       "      <td>...</td>\n",
       "      <td>1</td>\n",
       "      <td>1</td>\n",
       "      <td>84</td>\n",
       "      <td>100</td>\n",
       "      <td>100</td>\n",
       "      <td>100</td>\n",
       "      <td>82</td>\n",
       "      <td>82</td>\n",
       "      <td>76</td>\n",
       "      <td>72</td>\n",
       "    </tr>\n",
       "    <tr>\n",
       "      <td>3</td>\n",
       "      <td>1</td>\n",
       "      <td>1</td>\n",
       "      <td>1</td>\n",
       "      <td>1</td>\n",
       "      <td>1</td>\n",
       "      <td>1</td>\n",
       "      <td>1</td>\n",
       "      <td>1</td>\n",
       "      <td>1</td>\n",
       "      <td>1</td>\n",
       "      <td>...</td>\n",
       "      <td>1</td>\n",
       "      <td>1</td>\n",
       "      <td>81</td>\n",
       "      <td>86</td>\n",
       "      <td>100</td>\n",
       "      <td>100</td>\n",
       "      <td>82</td>\n",
       "      <td>76</td>\n",
       "      <td>88</td>\n",
       "      <td>59</td>\n",
       "    </tr>\n",
       "    <tr>\n",
       "      <td>4</td>\n",
       "      <td>1</td>\n",
       "      <td>1</td>\n",
       "      <td>1</td>\n",
       "      <td>1</td>\n",
       "      <td>1</td>\n",
       "      <td>1</td>\n",
       "      <td>1</td>\n",
       "      <td>1</td>\n",
       "      <td>1</td>\n",
       "      <td>1</td>\n",
       "      <td>...</td>\n",
       "      <td>1</td>\n",
       "      <td>1</td>\n",
       "      <td>91</td>\n",
       "      <td>100</td>\n",
       "      <td>100</td>\n",
       "      <td>100</td>\n",
       "      <td>100</td>\n",
       "      <td>88</td>\n",
       "      <td>100</td>\n",
       "      <td>72</td>\n",
       "    </tr>\n",
       "  </tbody>\n",
       "</table>\n",
       "<p>5 rows × 78 columns</p>\n",
       "</div>"
      ],
      "text/plain": [
       "   pa1  pa2  pa3  pa4  pa5  pa6  pa7  pa8  pa9  pa10  ...  pa69  pa70  oa all  \\\n",
       "0    1    1    1    1    1    1    1    1    1     1  ...     1     1      84   \n",
       "1    1    1    1    1    1    1    1    1    1     1  ...     1     1      81   \n",
       "2    1    1    1    1    1    1    1    1    1     1  ...     1     1      84   \n",
       "3    1    1    1    1    1    1    1    1    1     1  ...     1     1      81   \n",
       "4    1    1    1    1    1    1    1    1    1     1  ...     1     1      91   \n",
       "\n",
       "   oa m1  oa m2  oa m3  oa m4  oa m5  oa m6  oa m7  \n",
       "0    100    100    100     82     82     76     72  \n",
       "1     86    100    100     82     76     88     59  \n",
       "2    100    100    100     82     82     76     72  \n",
       "3     86    100    100     82     76     88     59  \n",
       "4    100    100    100    100     88    100     72  \n",
       "\n",
       "[5 rows x 78 columns]"
      ]
     },
     "execution_count": 340,
     "metadata": {},
     "output_type": "execute_result"
    }
   ],
   "source": [
    "col_names = ['pa'+str(i+1) for i in range(70)]+['oa all']+['oa m'+str(i+1) for i in range(7)]\n",
    "pa_cols = ['pa'+str(i+1) for i in range(70)]\n",
    "\n",
    "df = pd.read_csv('results-clean.csv',header=None)\n",
    "df.columns = col_names\n",
    "\n",
    "df.head(5)"
   ]
  },
  {
   "cell_type": "markdown",
   "metadata": {},
   "source": [
    "# model 1: linear model using only overall preassessment score"
   ]
  },
  {
   "cell_type": "markdown",
   "metadata": {},
   "source": [
    "This is essentially what we were looking at before this project - just using the overall score to predict their score on the assessment."
   ]
  },
  {
   "cell_type": "code",
   "execution_count": 196,
   "metadata": {
    "ExecuteTime": {
     "end_time": "2020-02-25T03:18:15.480896Z",
     "start_time": "2020-02-25T03:18:15.462439Z"
    }
   },
   "outputs": [
    {
     "name": "stdout",
     "output_type": "stream",
     "text": [
      "train mse: 39.805317660468056\n",
      "test mse: 39.2636433005649\n"
     ]
    }
   ],
   "source": [
    "from sklearn.linear_model import LinearRegression\n",
    "\n",
    "# sum rows of preassessment columns to get overall preassessment score\n",
    "X = df[pa_cols].sum(axis=1).values.reshape(-1,1)\n",
    "y = df['oa all']\n",
    "X_train, X_test, y_train, y_test = train_test_split(X, y, test_size=0.3, random_state=222)\n",
    "\n",
    "model = LinearRegression()\n",
    "model.fit(X_train,y_train)\n",
    "\n",
    "y_pred = model.predict(X_test)\n",
    "\n",
    "print('train mse:',mean_squared_error(y_train,model.predict(X_train)))\n",
    "print('test mse:',mean_squared_error(y_test,y_pred))"
   ]
  },
  {
   "cell_type": "markdown",
   "metadata": {},
   "source": [
    "# model 2: linear models using all features"
   ]
  },
  {
   "cell_type": "code",
   "execution_count": 217,
   "metadata": {
    "ExecuteTime": {
     "end_time": "2020-02-25T03:24:03.828625Z",
     "start_time": "2020-02-25T03:24:03.808007Z"
    }
   },
   "outputs": [
    {
     "name": "stdout",
     "output_type": "stream",
     "text": [
      "train mse: 27.519909738258367\n",
      "test mse: 36.00626284299438\n"
     ]
    }
   ],
   "source": [
    "from sklearn.linear_model import LinearRegression\n",
    "\n",
    "# keep all 70 columns of preassessment\n",
    "X = df[pa_cols].values\n",
    "y = df['oa all']\n",
    "X_train, X_test, y_train, y_test = train_test_split(X, y, test_size=0.3, random_state=222)\n",
    "\n",
    "model = LinearRegression()\n",
    "model.fit(X_train,y_train)\n",
    "y_pred = model.predict(X_test)\n",
    "print('train mse:',mean_squared_error(y_train,model.predict(X_train)))\n",
    "print('test mse:',mean_squared_error(y_test,y_pred))"
   ]
  },
  {
   "cell_type": "markdown",
   "metadata": {},
   "source": [
    "We see only a minor improvement in test MSE, but significant improvement in train MSE. So model is overfitting. Regularization should help."
   ]
  },
  {
   "cell_type": "markdown",
   "metadata": {},
   "source": [
    "# model 3: Elastic Net - linear regression with Lasso/Ridge regularization"
   ]
  },
  {
   "cell_type": "code",
   "execution_count": 232,
   "metadata": {
    "ExecuteTime": {
     "end_time": "2020-02-25T03:39:22.151836Z",
     "start_time": "2020-02-25T03:39:21.918054Z"
    }
   },
   "outputs": [
    {
     "name": "stdout",
     "output_type": "stream",
     "text": [
      "train mse: 31.265411846870446\n",
      "test mse: 31.935186988686144\n"
     ]
    }
   ],
   "source": [
    "from sklearn.linear_model import ElasticNet\n",
    "from sklearn.model_selection import RandomizedSearchCV\n",
    "from scipy.stats import uniform\n",
    "\n",
    "X = df[pa_cols].values\n",
    "y = df['oa all']\n",
    "X_train, X_test, y_train, y_test = train_test_split(X, y, test_size=0.3, random_state=222)\n",
    "\n",
    "elastic = ElasticNet()\n",
    "distributions = {'alpha':uniform(loc=0,scale=2),'l1_ratio':uniform(loc=0,scale=1)}\n",
    "\n",
    "model = RandomizedSearchCV(elastic,distributions,random_state=222,cv=5,n_iter=30)\n",
    "model.fit(X_train,y_train)\n",
    "y_pred = model.predict(X_test)\n",
    "\n",
    "print('train mse:',mean_squared_error(y_train,model.predict(X_train)))\n",
    "print('test mse:',mean_squared_error(y_test,y_pred))"
   ]
  },
  {
   "cell_type": "markdown",
   "metadata": {},
   "source": [
    "Significant improvement in MSE in both train and test."
   ]
  },
  {
   "cell_type": "code",
   "execution_count": 240,
   "metadata": {
    "ExecuteTime": {
     "end_time": "2020-02-25T03:44:04.888009Z",
     "start_time": "2020-02-25T03:44:04.877535Z"
    }
   },
   "outputs": [
    {
     "data": {
      "text/plain": [
       "{'alpha': 0.11089857627317512, 'l1_ratio': 0.14235108803830854}"
      ]
     },
     "execution_count": 240,
     "metadata": {},
     "output_type": "execute_result"
    }
   ],
   "source": [
    "model3 = model\n",
    "model3.best_params_"
   ]
  },
  {
   "cell_type": "markdown",
   "metadata": {},
   "source": [
    "# model 4: kNN regressor"
   ]
  },
  {
   "cell_type": "code",
   "execution_count": 257,
   "metadata": {
    "ExecuteTime": {
     "end_time": "2020-02-25T04:01:52.798197Z",
     "start_time": "2020-02-25T04:01:39.081368Z"
    }
   },
   "outputs": [
    {
     "name": "stdout",
     "output_type": "stream",
     "text": [
      "train error:  46.62055335968379\n",
      "test error:   48.553048916685285 \n",
      "\n"
     ]
    }
   ],
   "source": [
    "from sklearn.model_selection import RandomizedSearchCV\n",
    "from sklearn.neighbors import KNeighborsRegressor\n",
    "from scipy.stats import uniform\n",
    "\n",
    "X = df[pa_cols].values\n",
    "y = df['oa all']\n",
    "X_train, X_test, y_train, y_test = train_test_split(X, y, test_size=0.3, random_state=222)\n",
    "\n",
    "knn = KNeighborsRegressor()\n",
    "\n",
    "distributions = dict(\n",
    "    n_neighbors=range(1,30),\n",
    "    metric = ['minkowski'],\n",
    "    p = range(2,10)\n",
    ")\n",
    "\n",
    "model = RandomizedSearchCV(knn,distributions,n_iter=40,cv=5)\n",
    "\n",
    "model.fit(X_train, y_train)\n",
    "    \n",
    "train_error = mean_squared_error(y_train, model.predict(X_train))\n",
    "test_error = mean_squared_error(y_test, model.predict(X_test))\n",
    "    \n",
    "print('train error: ',train_error)\n",
    "print('test error:  ',test_error,'\\n')\n",
    "\n",
    "model4 = model"
   ]
  },
  {
   "cell_type": "markdown",
   "metadata": {},
   "source": [
    "# model 5 RandomForest"
   ]
  },
  {
   "cell_type": "code",
   "execution_count": 274,
   "metadata": {
    "ExecuteTime": {
     "end_time": "2020-02-25T04:12:32.324675Z",
     "start_time": "2020-02-25T04:12:21.327873Z"
    }
   },
   "outputs": [
    {
     "name": "stdout",
     "output_type": "stream",
     "text": [
      "train error:  27.17691163964016\n",
      "test error:   35.88423204115849\n"
     ]
    }
   ],
   "source": [
    "from sklearn.ensemble import RandomForestRegressor\n",
    "rf = RandomForestRegressor()\n",
    "\n",
    "distributions = dict(\n",
    "    n_estimators = range(1,500),\n",
    "    max_depth = range(1,5),\n",
    ")\n",
    "\n",
    "model = RandomizedSearchCV(rf,distributions,cv=8,n_iter=10)\n",
    "model.fit(X_train, y_train)\n",
    "    \n",
    "train_error = mean_squared_error(y_train, model.predict(X_train))\n",
    "test_error = mean_squared_error(y_test, model.predict(X_test))\n",
    "    \n",
    "print('train error: ',train_error)\n",
    "print('test error:  ',test_error)\n",
    "\n",
    "model5 = model"
   ]
  },
  {
   "cell_type": "markdown",
   "metadata": {},
   "source": [
    "Even with cross-validation, we are overfitting. The test MSE is still second best of models so far. Perhaps the regularization parameters of XGBoost can give better results without overfitting."
   ]
  },
  {
   "cell_type": "markdown",
   "metadata": {},
   "source": [
    "# model 6: XGBoost - gradient boosted trees"
   ]
  },
  {
   "cell_type": "code",
   "execution_count": 335,
   "metadata": {
    "ExecuteTime": {
     "end_time": "2020-02-25T04:55:39.747962Z",
     "start_time": "2020-02-25T04:55:35.672254Z"
    }
   },
   "outputs": [
    {
     "name": "stdout",
     "output_type": "stream",
     "text": [
      "train error:  11.722170653652132\n",
      "test error:   41.09974734546946\n"
     ]
    },
    {
     "data": {
      "text/plain": [
       "{'subsample': 0.8,\n",
       " 'n_estimators': 42,\n",
       " 'max_depth': 5,\n",
       " 'learning_rate': 0.1,\n",
       " 'gamma': 0.5}"
      ]
     },
     "execution_count": 335,
     "metadata": {},
     "output_type": "execute_result"
    }
   ],
   "source": [
    "from xgboost import XGBRegressor\n",
    "\n",
    "xgb = XGBRegressor()\n",
    "\n",
    "distributions = dict(\n",
    "    n_estimators=range(2,50),\n",
    "    max_depth = range(1,10),\n",
    "    learning_rate=[0.001,0.01,0.1,1],\n",
    "    gamma=[0.5],\n",
    "    subsample=[0.8]\n",
    ")\n",
    "\n",
    "model = RandomizedSearchCV(xgb,distributions,cv=10,n_iter=30)\n",
    "model.fit(X_train, y_train)\n",
    "    \n",
    "train_error = mean_squared_error(y_train, model.predict(X_train))\n",
    "test_error = mean_squared_error(y_test, model.predict(X_test))\n",
    "    \n",
    "print('train error: ',train_error)\n",
    "print('test error:  ',test_error)\n",
    "\n",
    "model.best_params_"
   ]
  },
  {
   "cell_type": "code",
   "execution_count": 320,
   "metadata": {
    "ExecuteTime": {
     "end_time": "2020-02-25T04:44:29.187980Z",
     "start_time": "2020-02-25T04:43:57.691416Z"
    }
   },
   "outputs": [
    {
     "name": "stdout",
     "output_type": "stream",
     "text": [
      "train error:  32.37372610112855\n",
      "test error:   31.85729034221023\n"
     ]
    },
    {
     "data": {
      "text/plain": [
       "{'subsample': 0.8,\n",
       " 'n_estimators': 94,\n",
       " 'max_depth': 1,\n",
       " 'learning_rate': 0.1,\n",
       " 'gamma': 1}"
      ]
     },
     "execution_count": 320,
     "metadata": {},
     "output_type": "execute_result"
    }
   ],
   "source": [
    "#previous is overfitting, so want to lean higher on regularization\n",
    "# e.g. higher gamma and lower max depth\n",
    "\n",
    "from xgboost import XGBRegressor\n",
    "\n",
    "xgb = XGBRegressor()\n",
    "\n",
    "distributions = dict(\n",
    "    n_estimators=range(30,200),\n",
    "    max_depth = range(1,5),\n",
    "    learning_rate=[0.001,0.01,0.1,1],\n",
    "    gamma=[0.01, 0.1,1, 10],\n",
    "    subsample=[0.7, 0.8, 0.9]\n",
    ")\n",
    "\n",
    "model = RandomizedSearchCV(xgb,distributions,cv=10,n_iter=70)\n",
    "model.fit(X_train, y_train)\n",
    "    \n",
    "train_error = mean_squared_error(y_train, model.predict(X_train))\n",
    "test_error = mean_squared_error(y_test, model.predict(X_test))\n",
    "    \n",
    "print('train error: ',train_error)\n",
    "print('test error:  ',test_error)\n",
    "\n",
    "model.best_params_"
   ]
  },
  {
   "cell_type": "code",
   "execution_count": null,
   "metadata": {},
   "outputs": [],
   "source": []
  },
  {
   "cell_type": "code",
   "execution_count": 329,
   "metadata": {
    "ExecuteTime": {
     "end_time": "2020-02-25T04:49:50.041772Z",
     "start_time": "2020-02-25T04:49:23.801651Z"
    }
   },
   "outputs": [
    {
     "name": "stdout",
     "output_type": "stream",
     "text": [
      "train error:  30.32567446411379\n",
      "test error:   32.07893175868692\n"
     ]
    },
    {
     "data": {
      "text/plain": [
       "{'gamma': 0.8571050946883807,\n",
       " 'learning_rate': 0.13094219776517732,\n",
       " 'max_depth': 1,\n",
       " 'n_estimators': 98,\n",
       " 'subsample': 0.6353066011215927}"
      ]
     },
     "execution_count": 329,
     "metadata": {},
     "output_type": "execute_result"
    }
   ],
   "source": [
    "# previous model is nearest to best so far\n",
    "# use normal distributions center around these values to try to see if there is more to gain nearby\n",
    "\n",
    "from xgboost import XGBRegressor\n",
    "from scipy.stats import norm\n",
    "\n",
    "xgb = XGBRegressor()\n",
    "\n",
    "distributions = dict(\n",
    "    n_estimators=range(70,130),\n",
    "    max_depth = range(1,4),\n",
    "    learning_rate= norm(loc=0.12,scale=0.02),\n",
    "    gamma=norm(loc=1,scale=0.2),\n",
    "    subsample=norm(loc=0.75,scale=0.08)\n",
    ")\n",
    "\n",
    "model = RandomizedSearchCV(xgb,distributions,cv=10,n_iter=70,random_state=222)\n",
    "model.fit(X_train, y_train)\n",
    "    \n",
    "train_error = mean_squared_error(y_train, model.predict(X_train))\n",
    "test_error = mean_squared_error(y_test, model.predict(X_test))\n",
    "    \n",
    "print('train error: ',train_error)\n",
    "print('test error:  ',test_error)\n",
    "\n",
    "model.best_params_"
   ]
  },
  {
   "cell_type": "code",
   "execution_count": 337,
   "metadata": {
    "ExecuteTime": {
     "end_time": "2020-02-25T04:59:00.448886Z",
     "start_time": "2020-02-25T04:57:49.160232Z"
    }
   },
   "outputs": [
    {
     "name": "stdout",
     "output_type": "stream",
     "text": [
      "train error:  31.20197289697522\n",
      "test error:   32.00793647660632\n"
     ]
    },
    {
     "data": {
      "text/plain": [
       "{'subsample': 0.6,\n",
       " 'n_estimators': 100,\n",
       " 'max_depth': 1,\n",
       " 'learning_rate': 0.1,\n",
       " 'gamma': 1}"
      ]
     },
     "execution_count": 337,
     "metadata": {},
     "output_type": "execute_result"
    }
   ],
   "source": [
    "# splitting the difference between two best previous params\n",
    "\n",
    "from xgboost import XGBRegressor\n",
    "from scipy.stats import norm\n",
    "\n",
    "xgb = XGBRegressor()\n",
    "\n",
    "distributions = {'subsample': [0.55, 0.60, 0.65,0.70, 0.75, 0.8,],\n",
    " 'n_estimators': [95,100,105,110,115,120],\n",
    " 'max_depth': [1,2],\n",
    " 'learning_rate': [0.1,0.11,0.12,0.13],\n",
    " 'gamma': [0.85,0.9,0.95,1,1.05,1.1,1.15]\n",
    "}\n",
    "\n",
    "model = RandomizedSearchCV(xgb,distributions,cv=10,n_iter=200,random_state=222)\n",
    "model.fit(X_train, y_train)\n",
    "    \n",
    "train_error = mean_squared_error(y_train, model.predict(X_train))\n",
    "test_error = mean_squared_error(y_test, model.predict(X_test))\n",
    "    \n",
    "print('train error: ',train_error)\n",
    "print('test error:  ',test_error)\n",
    "\n",
    "model6 = model\n",
    "\n",
    "model6.best_params_"
   ]
  }
 ],
 "metadata": {
  "kernelspec": {
   "display_name": "Python 3",
   "language": "python",
   "name": "python3"
  },
  "language_info": {
   "codemirror_mode": {
    "name": "ipython",
    "version": 3
   },
   "file_extension": ".py",
   "mimetype": "text/x-python",
   "name": "python",
   "nbconvert_exporter": "python",
   "pygments_lexer": "ipython3",
   "version": "3.7.3"
  },
  "toc": {
   "base_numbering": 1,
   "nav_menu": {},
   "number_sections": true,
   "sideBar": true,
   "skip_h1_title": false,
   "title_cell": "Table of Contents",
   "title_sidebar": "Contents",
   "toc_cell": false,
   "toc_position": {},
   "toc_section_display": true,
   "toc_window_display": false
  }
 },
 "nbformat": 4,
 "nbformat_minor": 2
}
